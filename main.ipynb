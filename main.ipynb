{
 "cells": [
  {
   "cell_type": "markdown",
   "source": [
    "# 1.6 搭建运行环境\n",
    "- 首先需要在聚宽平台注册试用账号, 获取到账号密码\n",
    "- 安装 `jqdatasdk` 包,直接 `pip install jqdatasdk` 即可"
   ],
   "metadata": {
    "collapsed": false
   }
  },
  {
   "cell_type": "code",
   "execution_count": 2,
   "outputs": [
    {
     "name": "stdout",
     "output_type": "stream",
     "text": [
      "auth success \n",
      "验证成功, 剩余可调用次数为: {'total': 1000000, 'spare': 981077}\n"
     ]
    }
   ],
   "source": [
    "from jqdatasdk import *\n",
    "import os\n",
    "from dotenv import load_dotenv\n",
    "import pandas as pd\n",
    "import datetime\n",
    "\n",
    "pd.set_option('display.max_rows', 10000)\n",
    "pd.set_option('display.max_columns', 500)\n",
    "\n",
    "# 加载用户名和密码环境变量\n",
    "load_dotenv()\n",
    "\n",
    "username = os.environ[\"USERNAME\"]\n",
    "password = os.environ[\"PASSWORD\"]\n",
    "\n",
    "# 验证\n",
    "auth(username, password)\n",
    "\n",
    "# 获取当前可调用次数\n",
    "print(f\"验证成功, 剩余可调用次数为: {get_query_count()}\")"
   ],
   "metadata": {
    "collapsed": false,
    "pycharm": {
     "name": "#%%\n"
    }
   }
  },
  {
   "cell_type": "markdown",
   "source": [
    "# 2.4 使用 JQData 查询行情数据"
   ],
   "metadata": {
    "collapsed": false
   }
  },
  {
   "cell_type": "code",
   "execution_count": null,
   "outputs": [],
   "source": [
    "# 查询所有的股票信息\n",
    "all_stocks_df = get_all_securities(['stock'])\n",
    "all_stocks_df"
   ],
   "metadata": {
    "collapsed": false,
    "pycharm": {
     "name": "#%%\n"
    }
   }
  },
  {
   "cell_type": "code",
   "execution_count": null,
   "outputs": [],
   "source": [
    "# 查询讯飞的股价信息\n",
    "iflytek_df = get_price('002230.XSHE', start_date='2021-7-7 9:00:00', end_date='2021-7-7 11:30:00', frequency='1m', panel=False)\n",
    "iflytek_df"
   ],
   "metadata": {
    "collapsed": false,
    "pycharm": {
     "name": "#%%\n"
    }
   }
  },
  {
   "cell_type": "markdown",
   "source": [
    "# 2.6 使用 resample 函数转换时间序列"
   ],
   "metadata": {
    "collapsed": false
   }
  },
  {
   "cell_type": "code",
   "execution_count": null,
   "outputs": [],
   "source": [
    "iflytek_df_2020 = get_price('002230.XSHE', start_date='2020-1-1', end_date='2021-6-30', frequency='daily', panel=False)\n",
    "\n",
    "\n",
    "iflytek_df_month = pd.DataFrame()\n",
    "iflytek_df_month['open'] = iflytek_df_2020['open'].resample('M').first()\n",
    "iflytek_df_month['close'] = iflytek_df_2020['close'].resample('M').last()\n",
    "iflytek_df_month['max'] = iflytek_df_2020['high'].resample('M').max()\n",
    "iflytek_df_month['min'] = iflytek_df_2020['low'].resample('M').min()\n",
    "iflytek_df_month['volume'] = iflytek_df_2020['volume'].resample('M').sum()\n",
    "iflytek_df_month['money'] = iflytek_df_2020['money'].resample('M').sum()\n",
    "iflytek_df_month"
   ],
   "metadata": {
    "collapsed": false,
    "pycharm": {
     "name": "#%%\n"
    }
   }
  },
  {
   "cell_type": "markdown",
   "source": [
    "# 2.7 使用 JQData 查询财务指标"
   ],
   "metadata": {
    "collapsed": false
   }
  },
  {
   "cell_type": "code",
   "execution_count": null,
   "outputs": [],
   "source": [
    "finance_df: pd.DataFrame = get_fundamentals(query(indicator), date=\"2021-01-05\")\n",
    "#df.to_csv('finance.csv')\n",
    "\n",
    "\n",
    "#基于盈利指标选股, eps, operating_profit, inc_total_revenue_year_on_year\n",
    "finance_df = finance_df[(finance_df['eps'] > 0) & (finance_df[\"operating_profit\"] > 284197086.3) & (finance_df['roe'] > 11) & (finance_df['inc_total_revenue_year_on_year'] > 10)]\n",
    "finance_df"
   ],
   "metadata": {
    "collapsed": false,
    "pycharm": {
     "name": "#%%\n"
    }
   }
  },
  {
   "cell_type": "markdown",
   "source": [
    "# 2.8 使用 JQData 查询估值指标\n",
    "\n",
    "相对估值法\n",
    "![](https://raw.githubusercontent.com/logerrors/pic/main/picgo/CleanShot%202021-07-10%20at%2012.01.11%402x.png)"
   ],
   "metadata": {
    "collapsed": false
   }
  },
  {
   "cell_type": "code",
   "execution_count": null,
   "outputs": [],
   "source": [
    "current_valuation = get_fundamentals(query(valuation), statDate=datetime.date.today())\n",
    "current_valuation\n",
    "\n"
   ],
   "metadata": {
    "collapsed": false,
    "pycharm": {
     "name": "#%%\n"
    }
   }
  },
  {
   "cell_type": "markdown",
   "source": [
    "# 2.9 使用财务数据计算"
   ],
   "metadata": {
    "collapsed": false
   }
  },
  {
   "cell_type": "markdown",
   "source": [
    "## 第一题 使用 Python 计算贵州茅台的最新市值数据\n",
    "![](https://raw.githubusercontent.com/logerrors/pic/main/picgo/CleanShot%202021-07-10%20at%2013.19.49%402x.png)"
   ],
   "metadata": {
    "collapsed": false
   }
  },
  {
   "cell_type": "code",
   "execution_count": 6,
   "outputs": [
    {
     "data": {
      "text/plain": "0    24773.6016\nName: market_cap, dtype: float64"
     },
     "execution_count": 6,
     "metadata": {},
     "output_type": "execute_result"
    }
   ],
   "source": [
    "# 贵州茅台的代码为 600519.XSHE\n",
    "maotai_valuation = get_fundamentals(query(valuation).filter(\n",
    "    valuation.code.in_(['600519.XSHG'])\n",
    "), statDate=datetime.date.today())\n",
    "maotai_valuation[\"market_cap\"]"
   ],
   "metadata": {
    "collapsed": false,
    "pycharm": {
     "name": "#%%\n"
    }
   }
  },
  {
   "cell_type": "markdown",
   "source": [
    "## 第二题 使用 Python 计算贵州茅台的市盈率(静态)"
   ],
   "metadata": {
    "collapsed": false
   }
  },
  {
   "cell_type": "code",
   "execution_count": 7,
   "outputs": [
    {
     "data": {
      "text/plain": "1.6770613667751506e-06"
     },
     "execution_count": 7,
     "metadata": {},
     "output_type": "execute_result"
    }
   ],
   "source": [
    "maotai_valuation_income = get_fundamentals(query(valuation, income).filter(\n",
    "    valuation.code.in_(['600519.XSHG'])\n",
    "))\n",
    "static_pe = maotai_valuation_income['market_cap'][0]/maotai_valuation_income['net_profit'][0]\n",
    "static_pe"
   ],
   "metadata": {
    "collapsed": false,
    "pycharm": {
     "name": "#%%\n"
    }
   }
  }
 ],
 "metadata": {
  "kernelspec": {
   "display_name": "Python 3",
   "language": "python",
   "name": "python3"
  },
  "language_info": {
   "codemirror_mode": {
    "name": "ipython",
    "version": 2
   },
   "file_extension": ".py",
   "mimetype": "text/x-python",
   "name": "python",
   "nbconvert_exporter": "python",
   "pygments_lexer": "ipython2",
   "version": "2.7.6"
  }
 },
 "nbformat": 4,
 "nbformat_minor": 0
}